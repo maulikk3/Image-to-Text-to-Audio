{
  "nbformat": 4,
  "nbformat_minor": 0,
  "metadata": {
    "colab": {
      "provenance": [],
      "authorship_tag": "ABX9TyNV37P89HsWhxhAfVyRRPIw",
      "include_colab_link": true
    },
    "kernelspec": {
      "name": "python3",
      "display_name": "Python 3"
    },
    "language_info": {
      "name": "python"
    }
  },
  "cells": [
    {
      "cell_type": "markdown",
      "metadata": {
        "id": "view-in-github",
        "colab_type": "text"
      },
      "source": [
        "<a href=\"https://colab.research.google.com/github/maulikk3/Image-to-Text-to-Audio/blob/main/Image_to_Text_to_Audio.ipynb\" target=\"_parent\"><img src=\"https://colab.research.google.com/assets/colab-badge.svg\" alt=\"Open In Colab\"/></a>"
      ]
    },
    {
      "cell_type": "markdown",
      "source": [
        "**Install the libraries**"
      ],
      "metadata": {
        "id": "AK22c-WCLdXE"
      }
    },
    {
      "cell_type": "code",
      "execution_count": 1,
      "metadata": {
        "colab": {
          "base_uri": "https://localhost:8080/"
        },
        "id": "la0iyPQOKF0V",
        "outputId": "18c152bb-f185-4395-e88f-b4e78812e4e5"
      },
      "outputs": [
        {
          "output_type": "stream",
          "name": "stdout",
          "text": [
            "Reading package lists... Done\n",
            "Building dependency tree... Done\n",
            "Reading state information... Done\n",
            "\u001b[1;31mE: \u001b[0mUnable to locate package tesseract_ocr\u001b[0m\n",
            "Collecting pytesseract\n",
            "  Downloading pytesseract-0.3.13-py3-none-any.whl.metadata (11 kB)\n",
            "Requirement already satisfied: packaging>=21.3 in /usr/local/lib/python3.11/dist-packages (from pytesseract) (24.2)\n",
            "Requirement already satisfied: Pillow>=8.0.0 in /usr/local/lib/python3.11/dist-packages (from pytesseract) (11.2.1)\n",
            "Downloading pytesseract-0.3.13-py3-none-any.whl (14 kB)\n",
            "Installing collected packages: pytesseract\n",
            "Successfully installed pytesseract-0.3.13\n",
            "Collecting gTTS\n",
            "  Downloading gTTS-2.5.4-py3-none-any.whl.metadata (4.1 kB)\n",
            "Requirement already satisfied: requests<3,>=2.27 in /usr/local/lib/python3.11/dist-packages (from gTTS) (2.32.3)\n",
            "Collecting click<8.2,>=7.1 (from gTTS)\n",
            "  Downloading click-8.1.8-py3-none-any.whl.metadata (2.3 kB)\n",
            "Requirement already satisfied: charset-normalizer<4,>=2 in /usr/local/lib/python3.11/dist-packages (from requests<3,>=2.27->gTTS) (3.4.2)\n",
            "Requirement already satisfied: idna<4,>=2.5 in /usr/local/lib/python3.11/dist-packages (from requests<3,>=2.27->gTTS) (3.10)\n",
            "Requirement already satisfied: urllib3<3,>=1.21.1 in /usr/local/lib/python3.11/dist-packages (from requests<3,>=2.27->gTTS) (2.4.0)\n",
            "Requirement already satisfied: certifi>=2017.4.17 in /usr/local/lib/python3.11/dist-packages (from requests<3,>=2.27->gTTS) (2025.6.15)\n",
            "Downloading gTTS-2.5.4-py3-none-any.whl (29 kB)\n",
            "Downloading click-8.1.8-py3-none-any.whl (98 kB)\n",
            "\u001b[2K   \u001b[90m━━━━━━━━━━━━━━━━━━━━━━━━━━━━━━━━━━━━━━━━\u001b[0m \u001b[32m98.2/98.2 kB\u001b[0m \u001b[31m2.7 MB/s\u001b[0m eta \u001b[36m0:00:00\u001b[0m\n",
            "\u001b[?25hInstalling collected packages: click, gTTS\n",
            "  Attempting uninstall: click\n",
            "    Found existing installation: click 8.2.1\n",
            "    Uninstalling click-8.2.1:\n",
            "      Successfully uninstalled click-8.2.1\n",
            "Successfully installed click-8.1.8 gTTS-2.5.4\n",
            "ERROR: unknown command \"istall\" - maybe you meant \"install\"\n"
          ]
        }
      ],
      "source": [
        "!sudo apt install tesseract_ocr\n",
        "!pip install pytesseract\n",
        "!pip install gTTS\n",
        "!pip istall Pillow==9.0.0\n"
      ]
    },
    {
      "cell_type": "code",
      "source": [
        "import pytesseract\n",
        "from PIL import Image\n",
        "import gtts\n"
      ],
      "metadata": {
        "id": "MnuvAd36KeVF"
      },
      "execution_count": 2,
      "outputs": []
    },
    {
      "cell_type": "markdown",
      "source": [
        "Import the image in the google colab"
      ],
      "metadata": {
        "id": "V7BT0nEyMYT4"
      }
    },
    {
      "cell_type": "code",
      "source": [
        "img=Image.open('//content/v4-460px-Write-a-Paragraph-Step-10-Version-4.jpg')\n",
        "print(img)"
      ],
      "metadata": {
        "colab": {
          "base_uri": "https://localhost:8080/"
        },
        "id": "sALRmTuDKrl6",
        "outputId": "685fbd48-84ed-44c0-9b89-8e57325d3983"
      },
      "execution_count": 3,
      "outputs": [
        {
          "output_type": "stream",
          "name": "stdout",
          "text": [
            "<PIL.JpegImagePlugin.JpegImageFile image mode=RGB size=460x345 at 0x7FD508CAD810>\n"
          ]
        }
      ]
    },
    {
      "cell_type": "markdown",
      "source": [
        " Convert Image into the strings"
      ],
      "metadata": {
        "id": "T37MkiGHMHIJ"
      }
    },
    {
      "cell_type": "code",
      "source": [
        "result=pytesseract.image_to_string(img)\n",
        "print(result)\n",
        "tts=gtts.gTTS(result)\n",
        "tts.save(\"hello.mp3\")"
      ],
      "metadata": {
        "colab": {
          "base_uri": "https://localhost:8080/"
        },
        "id": "4JGmjmEPLINR",
        "outputId": "1edf7977-7a75-4d9e-cb22-cf304df19686"
      },
      "execution_count": 4,
      "outputs": [
        {
          "output_type": "stream",
          "name": "stdout",
          "text": [
            "Introductory Paragraph of a Play Review :\n",
            "\n",
            " \n",
            "\n",
            " \n",
            "\n",
            "Recently, I had the pleasure of seeing one of\n",
            "William Shakespeare’s most beloved comedies,\n",
            "A Midsummer Night’s Dream, performed beautifully\n",
            "at the Los Angeles Repertory Theatre in downtown\n",
            "Los Angeles. At first glance, this performance\n",
            "space looks more like an industrial warehouse than\n",
            "an art house, but walking in you are transformed\n",
            "to the magical land of Midsummer.\n",
            "\n",
            " \n",
            "\n",
            " \n",
            "\n",
            " \n",
            "\n",
            " \n",
            "\f\n"
          ]
        }
      ]
    }
  ]
}